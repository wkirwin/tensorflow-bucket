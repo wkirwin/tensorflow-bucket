{
 "cells": [
  {
   "cell_type": "markdown",
   "metadata": {},
   "source": [
    "from https://github.com/adeshpande3/LSTM-Sentiment-Analysis/blob/master/Oriole%20LSTM.ipynb"
   ]
  },
  {
   "cell_type": "code",
   "execution_count": 1,
   "metadata": {},
   "outputs": [],
   "source": [
    "%matplotlib inline\n",
    "\n",
    "import logging\n",
    "import os\n",
    "from datetime import datetime\n",
    "import time\n",
    "\n",
    "import regex as re\n",
    "from tqdm import tqdm\n",
    "\n",
    "import seaborn as sns\n",
    "sns.set(color_codes=True)\n",
    "import matplotlib.pyplot as plt\n",
    "\n",
    "import numpy as np\n",
    "import pandas as pd\n",
    "import tensorflow as tf"
   ]
  },
  {
   "cell_type": "code",
   "execution_count": 2,
   "metadata": {},
   "outputs": [],
   "source": [
    "logger = logging.getLogger(__name__)"
   ]
  },
  {
   "cell_type": "code",
   "execution_count": 3,
   "metadata": {},
   "outputs": [],
   "source": [
    "dataset_base_dir = os.path.join('d:', os.sep, 'datasets')"
   ]
  },
  {
   "cell_type": "markdown",
   "metadata": {},
   "source": [
    "# Word Vectors"
   ]
  },
  {
   "cell_type": "code",
   "execution_count": 4,
   "metadata": {},
   "outputs": [],
   "source": [
    "word_dim = 50"
   ]
  },
  {
   "cell_type": "code",
   "execution_count": 5,
   "metadata": {},
   "outputs": [],
   "source": [
    "def load_glove_vectors(dim=50, filename=None):\n",
    "    if dim in (50, 100, 200, 300) and filename is None:\n",
    "        filename = os.path.join(dataset_base_dir, 'glove', 'glove.6B.{}d.txt'.format(dim))\n",
    "    else:\n",
    "        logger.error('invalid dimension: please choose from 50, 100, 200, 300')\n",
    "    \n",
    "    with open(filename, encoding='utf-8') as f:\n",
    "        lines = f.read().split('\\n')[:-1]  # last line is empty\n",
    "\n",
    "    word_list = [line.split(' ')[0] for line in lines]    \n",
    "    word_vectors = [np.array(list(map(np.float, line.split(' ')[1:]))) for line in lines]\n",
    "    \n",
    "    return word_list, np.array(word_vectors)\n",
    "\n",
    "word_list, word_vectors = load_glove_vectors()\n",
    "\n",
    "word_list = ['//UNK', '//PAD', '//END'] + word_list\n",
    "unk_vector = np.full((word_dim,), fill_value=-50)\n",
    "pad_vector = np.full((word_dim,), fill_value=-100)\n",
    "end_vector = np.full((word_dim,), fill_value=-150)\n",
    "word_vectors = np.vstack([unk_vector, pad_vector, end_vector, word_vectors])\n",
    "\n",
    "def word2vec(word):\n",
    "    return word_vectors[word_list.index(word)]\n",
    "\n",
    "def word2idx(word):\n",
    "    try:\n",
    "        return word_list.index(word)\n",
    "    except:  # return the //UNK token if word isn't in the vocabulary\n",
    "        return 0  "
   ]
  },
  {
   "cell_type": "code",
   "execution_count": 6,
   "metadata": {},
   "outputs": [
    {
     "data": {
      "text/plain": [
       "(400003, (400003, 50))"
      ]
     },
     "execution_count": 6,
     "metadata": {},
     "output_type": "execute_result"
    }
   ],
   "source": [
    "len(word_list), word_vectors.shape"
   ]
  },
  {
   "cell_type": "code",
   "execution_count": 7,
   "metadata": {},
   "outputs": [
    {
     "data": {
      "text/plain": [
       "['//UNK', '//PAD', '//END', 'the', ',', '.', 'of', 'to', 'and', 'in']"
      ]
     },
     "execution_count": 7,
     "metadata": {},
     "output_type": "execute_result"
    }
   ],
   "source": [
    "word_list[:10]"
   ]
  },
  {
   "cell_type": "code",
   "execution_count": 8,
   "metadata": {},
   "outputs": [
    {
     "data": {
      "text/plain": [
       "1"
      ]
     },
     "execution_count": 8,
     "metadata": {},
     "output_type": "execute_result"
    }
   ],
   "source": [
    "word2idx('//PAD')"
   ]
  },
  {
   "cell_type": "code",
   "execution_count": 9,
   "metadata": {},
   "outputs": [
    {
     "data": {
      "text/plain": [
       "array([-50., -50., -50., -50., -50., -50., -50., -50., -50., -50., -50.,\n",
       "       -50., -50., -50., -50., -50., -50., -50., -50., -50., -50., -50.,\n",
       "       -50., -50., -50., -50., -50., -50., -50., -50., -50., -50., -50.,\n",
       "       -50., -50., -50., -50., -50., -50., -50., -50., -50., -50., -50.,\n",
       "       -50., -50., -50., -50., -50., -50.])"
      ]
     },
     "execution_count": 9,
     "metadata": {},
     "output_type": "execute_result"
    }
   ],
   "source": [
    "word_vectors[0]"
   ]
  },
  {
   "cell_type": "code",
   "execution_count": 10,
   "metadata": {},
   "outputs": [
    {
     "data": {
      "text/plain": [
       "array([-1.9327  ,  1.0421  , -0.78515 ,  0.91033 ,  0.22711 , -0.62158 ,\n",
       "       -1.6493  ,  0.07686 , -0.5868  ,  0.058831,  0.35628 ,  0.68916 ,\n",
       "       -0.50598 ,  0.70473 ,  1.2664  , -0.40031 , -0.020687,  0.80863 ,\n",
       "       -0.90566 , -0.074054, -0.87675 , -0.6291  , -0.12685 ,  0.11524 ,\n",
       "       -0.55685 , -1.6826  , -0.26291 ,  0.22632 ,  0.713   , -1.0828  ,\n",
       "        2.1231  ,  0.49869 ,  0.066711, -0.48226 , -0.17897 ,  0.47699 ,\n",
       "        0.16384 ,  0.16537 , -0.11506 , -0.15962 , -0.94926 , -0.42833 ,\n",
       "       -0.59457 ,  1.3566  , -0.27506 ,  0.19918 , -0.36008 ,  0.55667 ,\n",
       "       -0.70315 ,  0.17157 ])"
      ]
     },
     "execution_count": 10,
     "metadata": {},
     "output_type": "execute_result"
    }
   ],
   "source": [
    "word2vec('baseball')"
   ]
  },
  {
   "cell_type": "code",
   "execution_count": 11,
   "metadata": {},
   "outputs": [
    {
     "data": {
      "text/plain": [
       "(40, 0)"
      ]
     },
     "execution_count": 11,
     "metadata": {},
     "output_type": "execute_result"
    }
   ],
   "source": [
    "word2idx('this'), word2idx('fdsahjk')"
   ]
  },
  {
   "cell_type": "code",
   "execution_count": 12,
   "metadata": {},
   "outputs": [],
   "source": [
    "max_seq_length = 10\n",
    "dim = 50\n",
    "first_sentence = 'i thought the movie was incredible and inspiring'\n",
    "first_sentence_ids = np.zeros(max_seq_length, dtype='int32')\n",
    "for j, word in enumerate(first_sentence.split()):\n",
    "    first_sentence_ids[j] = word_list.index(word)"
   ]
  },
  {
   "cell_type": "code",
   "execution_count": 13,
   "metadata": {},
   "outputs": [
    {
     "name": "stdout",
     "output_type": "stream",
     "text": [
      "(10, 50)\n"
     ]
    }
   ],
   "source": [
    "with tf.Session() as sess:\n",
    "    print(tf.nn.embedding_lookup(word_vectors, first_sentence_ids).eval().shape)"
   ]
  },
  {
   "cell_type": "markdown",
   "metadata": {},
   "source": [
    "# Movie Reviews "
   ]
  },
  {
   "cell_type": "code",
   "execution_count": 6,
   "metadata": {},
   "outputs": [],
   "source": [
    "dataset_dir = os.path.join(dataset_base_dir, 'imdb-movie-reviews')\n",
    "\n",
    "pos_train = os.path.join(dataset_dir, 'train', 'pos')\n",
    "neg_train = os.path.join(dataset_dir, 'train', 'neg')"
   ]
  },
  {
   "cell_type": "code",
   "execution_count": 7,
   "metadata": {},
   "outputs": [],
   "source": [
    "pos_train_filenames = [os.path.join(pos_train, filename) \n",
    "                       for filename in os.listdir(pos_train)\n",
    "                       if os.path.isfile(os.path.join(pos_train, filename))]\n",
    "neg_train_filenames = [os.path.join(neg_train, filename)\n",
    "                       for filename in os.listdir(neg_train)\n",
    "                       if os.path.isfile(os.path.join(neg_train, filename))]"
   ]
  },
  {
   "cell_type": "code",
   "execution_count": 8,
   "metadata": {},
   "outputs": [
    {
     "data": {
      "text/plain": [
       "(12500, 12500)"
      ]
     },
     "execution_count": 8,
     "metadata": {},
     "output_type": "execute_result"
    }
   ],
   "source": [
    "len(pos_train_filenames), len(neg_train_filenames)"
   ]
  },
  {
   "cell_type": "code",
   "execution_count": 17,
   "metadata": {},
   "outputs": [],
   "source": [
    "word_counts = []\n",
    "for filename in pos_train_filenames + neg_train_filenames:\n",
    "    with open(filename, 'r', encoding='utf-8') as f:\n",
    "            word_counts.append(len(f.read().split()))"
   ]
  },
  {
   "cell_type": "code",
   "execution_count": 18,
   "metadata": {},
   "outputs": [
    {
     "data": {
      "text/plain": [
       "(25000, [140, 428, 147, 124, 120, 171, 108, 340, 436, 324])"
      ]
     },
     "execution_count": 18,
     "metadata": {},
     "output_type": "execute_result"
    }
   ],
   "source": [
    "len(word_counts), word_counts[:10]"
   ]
  },
  {
   "cell_type": "code",
   "execution_count": 19,
   "metadata": {},
   "outputs": [
    {
     "data": {
      "image/png": "[encoded data removed]",
      "text/plain": [
       "<Figure size 936x576 with 1 Axes>"
      ]
     },
     "metadata": {
      "needs_background": "light"
     },
     "output_type": "display_data"
    }
   ],
   "source": [
    "ymax = 7300\n",
    "\n",
    "fig = plt.figure(figsize=(13, 8))\n",
    "sns.distplot(word_counts, kde=False);\n",
    "plt.xlabel('Number of Words');\n",
    "plt.ylabel('Number of Reviews');\n",
    "plt.ylim(0, ymax);\n",
    "plt.vlines(x=500, ymin=0, ymax=ymax, colors='r');"
   ]
  },
  {
   "cell_type": "code",
   "execution_count": 9,
   "metadata": {},
   "outputs": [],
   "source": [
    "max_seq_length = 500"
   ]
  },
  {
   "cell_type": "code",
   "execution_count": 10,
   "metadata": {},
   "outputs": [],
   "source": [
    "def load_review(filename, seq_length=max_seq_length):\n",
    "    filename_base = filename.split('.')[0].split('\\\\')[-1]\n",
    "    review_idx, review_rating = filename_base.split('_')\n",
    "    \n",
    "    with open(filename, 'r', encoding='utf-8') as f:\n",
    "        text = f.read().lower()\n",
    "    \n",
    "    token_rgx = re.compile(r\"\\w+|[^\\w\\s]\")\n",
    "    \n",
    "    tokens = token_rgx.findall(text)\n",
    "    review_len = len(tokens)\n",
    "    \n",
    "    word_ids = np.full(seq_length, fill_value=word2idx('//PAD'), dtype='int32')\n",
    "    for j in range(min(review_len, seq_length)):\n",
    "        word_ids[j] = word2idx(tokens[j])\n",
    "    if review_len < seq_length:\n",
    "        word_ids[review_len] = word2idx('//END')\n",
    "        \n",
    "    return review_idx, int(review_rating), review_len, word_ids"
   ]
  },
  {
   "cell_type": "code",
   "execution_count": 17,
   "metadata": {
    "scrolled": true
   },
   "outputs": [
    {
     "data": {
      "text/plain": [
       "('0',\n",
       " 9,\n",
       " 185,\n",
       " array([174946,    155,     17,     10,   7365,   2844,      5,     23,\n",
       "          1424,     25,      3,    218,     82,     22,     80,     71,\n",
       "          1012,     62,    167,    217,      4,    128,     22,     11,\n",
       "          2565,     11,      5,    195,   1681,     85,      9,      3,\n",
       "          3177,   8107,    413,    288,      7,    736,     15, 174946,\n",
       "           155,     60,   1537,  15306,     17,    184,   2389,      7,\n",
       "          2535,     76,     17,     11,   2565,     11,      5,      3,\n",
       "         14173,      7,   3984,   7983,      4,      3,  34404,    546,\n",
       "            41,     89,    256,    251,    134,     47,  22498,   2565,\n",
       "            60,  31169,      4,      3,  91890,      6,      3,   1118,\n",
       "           797,      4,     67,   9797,    288,      6,      3,    891,\n",
       "            44,   1525,      8,     47,    546,      5,     64,     44,\n",
       "           825,      3,   1945,      9,     45,     10,   1286,   2651,\n",
       "           980,      7,   6295,    138,      3,    167,      4,     44,\n",
       "          1043,   3154,      5,      5,      5,      5,      5,      5,\n",
       "             5,      5,      5,     25,      5,      5,      5,      5,\n",
       "             5,      5,      5,      5,      5,      5,    155,      5,\n",
       "            10,   2395,    334,     48,   5540,     48,     44,     60,\n",
       "          1996,    190,      7,  11742,     51,      6,    395,   2565,\n",
       "             5,   1286,     48,   3146,      7, 174946,    155,      5,\n",
       "            44,   1546,     15,    112,   3577,      6,    195,    467,\n",
       "           272,     15, 174946,    155,     17,    375,  19389,      5,\n",
       "           105,     10,  16217,     15,     23,  75363,     60,   2162,\n",
       "           808,      2,      1,      1,      1,      1,      1,      1,\n",
       "             1,      1,      1,      1,      1,      1,      1,      1,\n",
       "             1,      1,      1,      1,      1,      1,      1,      1,\n",
       "             1,      1,      1,      1,      1,      1,      1,      1,\n",
       "             1,      1,      1,      1,      1,      1,      1,      1,\n",
       "             1,      1,      1,      1,      1,      1,      1,      1,\n",
       "             1,      1,      1,      1,      1,      1,      1,      1,\n",
       "             1,      1,      1,      1,      1,      1,      1,      1,\n",
       "             1,      1,      1,      1,      1,      1,      1,      1,\n",
       "             1,      1,      1,      1,      1,      1,      1,      1,\n",
       "             1,      1,      1,      1,      1,      1,      1,      1,\n",
       "             1,      1,      1,      1,      1,      1,      1,      1,\n",
       "             1,      1,      1,      1,      1,      1,      1,      1,\n",
       "             1,      1,      1,      1,      1,      1,      1,      1,\n",
       "             1,      1,      1,      1,      1,      1,      1,      1,\n",
       "             1,      1,      1,      1,      1,      1,      1,      1,\n",
       "             1,      1,      1,      1,      1,      1,      1,      1,\n",
       "             1,      1,      1,      1,      1,      1,      1,      1,\n",
       "             1,      1,      1,      1,      1,      1,      1,      1,\n",
       "             1,      1,      1,      1,      1,      1,      1,      1,\n",
       "             1,      1,      1,      1,      1,      1,      1,      1,\n",
       "             1,      1,      1,      1,      1,      1,      1,      1,\n",
       "             1,      1,      1,      1,      1,      1,      1,      1,\n",
       "             1,      1,      1,      1,      1,      1,      1,      1,\n",
       "             1,      1,      1,      1,      1,      1,      1,      1,\n",
       "             1,      1,      1,      1,      1,      1,      1,      1,\n",
       "             1,      1,      1,      1,      1,      1,      1,      1,\n",
       "             1,      1,      1,      1,      1,      1,      1,      1,\n",
       "             1,      1,      1,      1,      1,      1,      1,      1,\n",
       "             1,      1,      1,      1,      1,      1,      1,      1,\n",
       "             1,      1,      1,      1,      1,      1,      1,      1,\n",
       "             1,      1,      1,      1,      1,      1,      1,      1,\n",
       "             1,      1,      1,      1,      1,      1,      1,      1,\n",
       "             1,      1,      1,      1,      1,      1,      1,      1,\n",
       "             1,      1,      1,      1,      1,      1,      1,      1,\n",
       "             1,      1,      1,      1,      1,      1,      1,      1,\n",
       "             1,      1,      1,      1,      1,      1,      1,      1,\n",
       "             1,      1,      1,      1,      1,      1,      1,      1,\n",
       "             1,      1,      1,      1,      1,      1,      1,      1,\n",
       "             1,      1,      1,      1]))"
      ]
     },
     "execution_count": 17,
     "metadata": {},
     "output_type": "execute_result"
    }
   ],
   "source": [
    "load_review(pos_train_filenames[0])"
   ]
  },
  {
   "cell_type": "code",
   "execution_count": 27,
   "metadata": {},
   "outputs": [
    {
     "data": {
      "text/plain": [
       "2680"
      ]
     },
     "execution_count": 27,
     "metadata": {},
     "output_type": "execute_result"
    }
   ],
   "source": [
    "# a review w more than max_seq_length words\n",
    "word_counts.index(max_seq_length + 1)"
   ]
  },
  {
   "cell_type": "code",
   "execution_count": 28,
   "metadata": {},
   "outputs": [
    {
     "name": "stdout",
     "output_type": "stream",
     "text": [
      "(500,) (10,)\n"
     ]
    }
   ],
   "source": [
    "print(load_review(pos_train_filenames[2680])[3].shape, \n",
    "load_review(pos_train_filenames[2680], seq_length=10)[3].shape)"
   ]
  },
  {
   "cell_type": "code",
   "execution_count": 11,
   "metadata": {},
   "outputs": [],
   "source": [
    "def load_reviews(seq_length=max_seq_length):\n",
    "    num_reviews = len(pos_train_filenames) + len(neg_train_filenames)\n",
    "    ratings = np.zeros(num_reviews)\n",
    "    review_lengths = np.zeros(num_reviews)\n",
    "    reviews = np.zeros((num_reviews, seq_length))\n",
    "    \n",
    "    for j, filename in enumerate(tqdm(pos_train_filenames + neg_train_filenames)):\n",
    "        _, ratings[j], review_lengths[j], reviews[j] = load_review(filename, seq_length)\n",
    "        \n",
    "    return np.array(ratings), np.array(review_lengths), reviews"
   ]
  },
  {
   "cell_type": "code",
   "execution_count": 12,
   "metadata": {},
   "outputs": [],
   "source": [
    "npz_filename = '_data/imdb_{}_glove{}.npz'.format(max_seq_length, word_dim)"
   ]
  },
  {
   "cell_type": "code",
   "execution_count": 13,
   "metadata": {},
   "outputs": [],
   "source": [
    "if os.path.isfile(npz_filename):\n",
    "    with open(npz_filename, 'rb') as f:\n",
    "        npzfile = np.load(f)\n",
    "        ratings, review_lengths, reviews = npzfile['arr_0'], npzfile['arr_1'], npzfile['arr_2']\n",
    "else:\n",
    "    ratings, review_lengths, reviews = load_reviews()\n",
    "    with open(npz_filename, 'wb') as f:\n",
    "        np.savez(f, ratings, review_lengths, reviews)"
   ]
  },
  {
   "cell_type": "code",
   "execution_count": 14,
   "metadata": {},
   "outputs": [
    {
     "data": {
      "text/plain": [
       "((25000,), (25000,), (25000, 500))"
      ]
     },
     "execution_count": 14,
     "metadata": {},
     "output_type": "execute_result"
    }
   ],
   "source": [
    "ratings.shape, review_lengths.shape, reviews.shape"
   ]
  },
  {
   "cell_type": "code",
   "execution_count": 49,
   "metadata": {
    "collapsed": true
   },
   "outputs": [
    {
     "data": {
      "text/plain": [
       "(9.0,\n",
       " 185.0,\n",
       " array([1.74946e+05, 1.55000e+02, 1.70000e+01, 1.00000e+01, 7.36500e+03,\n",
       "        2.84400e+03, 5.00000e+00, 2.30000e+01, 1.42400e+03, 2.50000e+01,\n",
       "        3.00000e+00, 2.18000e+02, 8.20000e+01, 2.20000e+01, 8.00000e+01,\n",
       "        7.10000e+01, 1.01200e+03, 6.20000e+01, 1.67000e+02, 2.17000e+02,\n",
       "        4.00000e+00, 1.28000e+02, 2.20000e+01, 1.10000e+01, 2.56500e+03,\n",
       "        1.10000e+01, 5.00000e+00, 1.95000e+02, 1.68100e+03, 8.50000e+01,\n",
       "        9.00000e+00, 3.00000e+00, 3.17700e+03, 8.10700e+03, 4.13000e+02,\n",
       "        2.88000e+02, 7.00000e+00, 7.36000e+02, 1.50000e+01, 1.74946e+05,\n",
       "        1.55000e+02, 6.00000e+01, 1.53700e+03, 1.53060e+04, 1.70000e+01,\n",
       "        1.84000e+02, 2.38900e+03, 7.00000e+00, 2.53500e+03, 7.60000e+01,\n",
       "        1.70000e+01, 1.10000e+01, 2.56500e+03, 1.10000e+01, 5.00000e+00,\n",
       "        3.00000e+00, 1.41730e+04, 7.00000e+00, 3.98400e+03, 7.98300e+03,\n",
       "        4.00000e+00, 3.00000e+00, 3.44040e+04, 5.46000e+02, 4.10000e+01,\n",
       "        8.90000e+01, 2.56000e+02, 2.51000e+02, 1.34000e+02, 4.70000e+01,\n",
       "        2.24980e+04, 2.56500e+03, 6.00000e+01, 3.11690e+04, 4.00000e+00,\n",
       "        3.00000e+00, 9.18900e+04, 6.00000e+00, 3.00000e+00, 1.11800e+03,\n",
       "        7.97000e+02, 4.00000e+00, 6.70000e+01, 9.79700e+03, 2.88000e+02,\n",
       "        6.00000e+00, 3.00000e+00, 8.91000e+02, 4.40000e+01, 1.52500e+03,\n",
       "        8.00000e+00, 4.70000e+01, 5.46000e+02, 5.00000e+00, 6.40000e+01,\n",
       "        4.40000e+01, 8.25000e+02, 3.00000e+00, 1.94500e+03, 9.00000e+00,\n",
       "        4.50000e+01, 1.00000e+01, 1.28600e+03, 2.65100e+03, 9.80000e+02,\n",
       "        7.00000e+00, 6.29500e+03, 1.38000e+02, 3.00000e+00, 1.67000e+02,\n",
       "        4.00000e+00, 4.40000e+01, 1.04300e+03, 3.15400e+03, 5.00000e+00,\n",
       "        5.00000e+00, 5.00000e+00, 5.00000e+00, 5.00000e+00, 5.00000e+00,\n",
       "        5.00000e+00, 5.00000e+00, 5.00000e+00, 2.50000e+01, 5.00000e+00,\n",
       "        5.00000e+00, 5.00000e+00, 5.00000e+00, 5.00000e+00, 5.00000e+00,\n",
       "        5.00000e+00, 5.00000e+00, 5.00000e+00, 5.00000e+00, 1.55000e+02,\n",
       "        5.00000e+00, 1.00000e+01, 2.39500e+03, 3.34000e+02, 4.80000e+01,\n",
       "        5.54000e+03, 4.80000e+01, 4.40000e+01, 6.00000e+01, 1.99600e+03,\n",
       "        1.90000e+02, 7.00000e+00, 1.17420e+04, 5.10000e+01, 6.00000e+00,\n",
       "        3.95000e+02, 2.56500e+03, 5.00000e+00, 1.28600e+03, 4.80000e+01,\n",
       "        3.14600e+03, 7.00000e+00, 1.74946e+05, 1.55000e+02, 5.00000e+00,\n",
       "        4.40000e+01, 1.54600e+03, 1.50000e+01, 1.12000e+02, 3.57700e+03,\n",
       "        6.00000e+00, 1.95000e+02, 4.67000e+02, 2.72000e+02, 1.50000e+01,\n",
       "        1.74946e+05, 1.55000e+02, 1.70000e+01, 3.75000e+02, 1.93890e+04,\n",
       "        5.00000e+00, 1.05000e+02, 1.00000e+01, 1.62170e+04, 1.50000e+01,\n",
       "        2.30000e+01, 7.53630e+04, 6.00000e+01, 2.16200e+03, 8.08000e+02,\n",
       "        2.00000e+00, 1.00000e+00, 1.00000e+00, 1.00000e+00, 1.00000e+00,\n",
       "        1.00000e+00, 1.00000e+00, 1.00000e+00, 1.00000e+00, 1.00000e+00,\n",
       "        1.00000e+00, 1.00000e+00, 1.00000e+00, 1.00000e+00, 1.00000e+00,\n",
       "        1.00000e+00, 1.00000e+00, 1.00000e+00, 1.00000e+00, 1.00000e+00,\n",
       "        1.00000e+00, 1.00000e+00, 1.00000e+00, 1.00000e+00, 1.00000e+00,\n",
       "        1.00000e+00, 1.00000e+00, 1.00000e+00, 1.00000e+00, 1.00000e+00,\n",
       "        1.00000e+00, 1.00000e+00, 1.00000e+00, 1.00000e+00, 1.00000e+00,\n",
       "        1.00000e+00, 1.00000e+00, 1.00000e+00, 1.00000e+00, 1.00000e+00,\n",
       "        1.00000e+00, 1.00000e+00, 1.00000e+00, 1.00000e+00, 1.00000e+00,\n",
       "        1.00000e+00, 1.00000e+00, 1.00000e+00, 1.00000e+00, 1.00000e+00,\n",
       "        1.00000e+00, 1.00000e+00, 1.00000e+00, 1.00000e+00, 1.00000e+00,\n",
       "        1.00000e+00, 1.00000e+00, 1.00000e+00, 1.00000e+00, 1.00000e+00,\n",
       "        1.00000e+00, 1.00000e+00, 1.00000e+00, 1.00000e+00, 1.00000e+00,\n",
       "        1.00000e+00, 1.00000e+00, 1.00000e+00, 1.00000e+00, 1.00000e+00,\n",
       "        1.00000e+00, 1.00000e+00, 1.00000e+00, 1.00000e+00, 1.00000e+00,\n",
       "        1.00000e+00, 1.00000e+00, 1.00000e+00, 1.00000e+00, 1.00000e+00,\n",
       "        1.00000e+00, 1.00000e+00, 1.00000e+00, 1.00000e+00, 1.00000e+00,\n",
       "        1.00000e+00, 1.00000e+00, 1.00000e+00, 1.00000e+00, 1.00000e+00,\n",
       "        1.00000e+00, 1.00000e+00, 1.00000e+00, 1.00000e+00, 1.00000e+00,\n",
       "        1.00000e+00, 1.00000e+00, 1.00000e+00, 1.00000e+00, 1.00000e+00,\n",
       "        1.00000e+00, 1.00000e+00, 1.00000e+00, 1.00000e+00, 1.00000e+00,\n",
       "        1.00000e+00, 1.00000e+00, 1.00000e+00, 1.00000e+00, 1.00000e+00,\n",
       "        1.00000e+00, 1.00000e+00, 1.00000e+00, 1.00000e+00, 1.00000e+00,\n",
       "        1.00000e+00, 1.00000e+00, 1.00000e+00, 1.00000e+00, 1.00000e+00,\n",
       "        1.00000e+00, 1.00000e+00, 1.00000e+00, 1.00000e+00, 1.00000e+00,\n",
       "        1.00000e+00, 1.00000e+00, 1.00000e+00, 1.00000e+00, 1.00000e+00,\n",
       "        1.00000e+00, 1.00000e+00, 1.00000e+00, 1.00000e+00, 1.00000e+00,\n",
       "        1.00000e+00, 1.00000e+00, 1.00000e+00, 1.00000e+00, 1.00000e+00,\n",
       "        1.00000e+00, 1.00000e+00, 1.00000e+00, 1.00000e+00, 1.00000e+00,\n",
       "        1.00000e+00, 1.00000e+00, 1.00000e+00, 1.00000e+00, 1.00000e+00,\n",
       "        1.00000e+00, 1.00000e+00, 1.00000e+00, 1.00000e+00, 1.00000e+00,\n",
       "        1.00000e+00, 1.00000e+00, 1.00000e+00, 1.00000e+00, 1.00000e+00,\n",
       "        1.00000e+00, 1.00000e+00, 1.00000e+00, 1.00000e+00, 1.00000e+00,\n",
       "        1.00000e+00, 1.00000e+00, 1.00000e+00, 1.00000e+00, 1.00000e+00,\n",
       "        1.00000e+00, 1.00000e+00, 1.00000e+00, 1.00000e+00, 1.00000e+00,\n",
       "        1.00000e+00, 1.00000e+00, 1.00000e+00, 1.00000e+00, 1.00000e+00,\n",
       "        1.00000e+00, 1.00000e+00, 1.00000e+00, 1.00000e+00, 1.00000e+00,\n",
       "        1.00000e+00, 1.00000e+00, 1.00000e+00, 1.00000e+00, 1.00000e+00,\n",
       "        1.00000e+00, 1.00000e+00, 1.00000e+00, 1.00000e+00, 1.00000e+00,\n",
       "        1.00000e+00, 1.00000e+00, 1.00000e+00, 1.00000e+00, 1.00000e+00,\n",
       "        1.00000e+00, 1.00000e+00, 1.00000e+00, 1.00000e+00, 1.00000e+00,\n",
       "        1.00000e+00, 1.00000e+00, 1.00000e+00, 1.00000e+00, 1.00000e+00,\n",
       "        1.00000e+00, 1.00000e+00, 1.00000e+00, 1.00000e+00, 1.00000e+00,\n",
       "        1.00000e+00, 1.00000e+00, 1.00000e+00, 1.00000e+00, 1.00000e+00,\n",
       "        1.00000e+00, 1.00000e+00, 1.00000e+00, 1.00000e+00, 1.00000e+00,\n",
       "        1.00000e+00, 1.00000e+00, 1.00000e+00, 1.00000e+00, 1.00000e+00,\n",
       "        1.00000e+00, 1.00000e+00, 1.00000e+00, 1.00000e+00, 1.00000e+00,\n",
       "        1.00000e+00, 1.00000e+00, 1.00000e+00, 1.00000e+00, 1.00000e+00,\n",
       "        1.00000e+00, 1.00000e+00, 1.00000e+00, 1.00000e+00, 1.00000e+00,\n",
       "        1.00000e+00, 1.00000e+00, 1.00000e+00, 1.00000e+00, 1.00000e+00,\n",
       "        1.00000e+00, 1.00000e+00, 1.00000e+00, 1.00000e+00, 1.00000e+00,\n",
       "        1.00000e+00, 1.00000e+00, 1.00000e+00, 1.00000e+00, 1.00000e+00,\n",
       "        1.00000e+00, 1.00000e+00, 1.00000e+00, 1.00000e+00, 1.00000e+00,\n",
       "        1.00000e+00, 1.00000e+00, 1.00000e+00, 1.00000e+00, 1.00000e+00,\n",
       "        1.00000e+00, 1.00000e+00, 1.00000e+00, 1.00000e+00, 1.00000e+00,\n",
       "        1.00000e+00, 1.00000e+00, 1.00000e+00, 1.00000e+00, 1.00000e+00,\n",
       "        1.00000e+00, 1.00000e+00, 1.00000e+00, 1.00000e+00, 1.00000e+00,\n",
       "        1.00000e+00, 1.00000e+00, 1.00000e+00, 1.00000e+00, 1.00000e+00,\n",
       "        1.00000e+00, 1.00000e+00, 1.00000e+00, 1.00000e+00, 1.00000e+00,\n",
       "        1.00000e+00, 1.00000e+00, 1.00000e+00, 1.00000e+00, 1.00000e+00,\n",
       "        1.00000e+00, 1.00000e+00, 1.00000e+00, 1.00000e+00, 1.00000e+00,\n",
       "        1.00000e+00, 1.00000e+00, 1.00000e+00, 1.00000e+00, 1.00000e+00,\n",
       "        1.00000e+00, 1.00000e+00, 1.00000e+00, 1.00000e+00, 1.00000e+00]))"
      ]
     },
     "execution_count": 49,
     "metadata": {},
     "output_type": "execute_result"
    }
   ],
   "source": [
    "ratings[0], review_lengths[0], reviews[0]"
   ]
  },
  {
   "cell_type": "markdown",
   "metadata": {},
   "source": [
    "# Helper Functions "
   ]
  },
  {
   "cell_type": "code",
   "execution_count": 15,
   "metadata": {},
   "outputs": [],
   "source": [
    "def get_batch(batch_size):\n",
    "    # just do random batches for now\n",
    "    idxs = np.random.randint(0, ratings.shape[0], batch_size)\n",
    "    \n",
    "    # since we want pos/neg and pos is >= 7.0 stars, we'll convert to 1 (pos) vs 0 (neg) labels\n",
    "    return reviews[idxs, :], review_lengths[idxs], np.array(ratings[idxs] >= 7.0, dtype='int32')\n",
    "\n",
    "def get_test_batch(batch_size):\n",
    "    pass"
   ]
  },
  {
   "cell_type": "code",
   "execution_count": null,
   "metadata": {},
   "outputs": [],
   "source": [
    "def logdir(name):\n",
    "    now = datetime.utcnow().strftime('%Y%m%d%H%M%S')\n",
    "    root_logdir = 'tf_logs' + name\n",
    "    logdir = '{}/run-{}/'.format(root_logdir, now)\n",
    "    return logdir"
   ]
  },
  {
   "cell_type": "markdown",
   "metadata": {},
   "source": [
    "# Basic RNN Model"
   ]
  },
  {
   "cell_type": "code",
   "execution_count": 38,
   "metadata": {},
   "outputs": [],
   "source": [
    "batch_size = 10\n",
    "n_neurons = 11\n",
    "n_steps = 5\n",
    "\n",
    "droupout_keep_prob = 0.75\n",
    "learning_rate = 0.001"
   ]
  },
  {
   "cell_type": "code",
   "execution_count": 39,
   "metadata": {},
   "outputs": [],
   "source": [
    "tf.reset_default_graph()"
   ]
  },
  {
   "cell_type": "markdown",
   "metadata": {},
   "source": [
    "Recall that the basic RNN cell takes a tensor of shape `[None, n_steps, n_inputs]` where `None` will be the batch size, and we set `n_steps = max_seq_length`. That is, it should be `[None, 500, word_dim]`.\n",
    "\n",
    "The output should be `[None, 500, n_neurons]`."
   ]
  },
  {
   "cell_type": "code",
   "execution_count": 40,
   "metadata": {},
   "outputs": [],
   "source": [
    "X = tf.placeholder(tf.int32, [None, max_seq_length])  # the batch of reviews (as zero-padded seqs of word idxs)\n",
    "seq_length = tf.placeholder(tf.int32, [None])\n",
    "y = tf.placeholder(tf.int32, [None])  # the batch of review labels (-1=bad, 1=good)\n",
    "\n",
    "vector_data = tf.cast(tf.nn.embedding_lookup(word_vectors, X), dtype=tf.float32)  # the batch of reviews as zero-padded seqs of word vectors"
   ]
  },
  {
   "cell_type": "code",
   "execution_count": 41,
   "metadata": {},
   "outputs": [
    {
     "data": {
      "text/plain": [
       "TensorShape([Dimension(None), Dimension(500), Dimension(50)])"
      ]
     },
     "execution_count": 41,
     "metadata": {},
     "output_type": "execute_result"
    }
   ],
   "source": [
    "vector_data.get_shape()"
   ]
  },
  {
   "cell_type": "code",
   "execution_count": 42,
   "metadata": {
    "scrolled": false
   },
   "outputs": [],
   "source": [
    "basic_cell = tf.keras.layers.SimpleRNNCell(units=n_neurons)\n",
    "outputs, states = tf.nn.dynamic_rnn(basic_cell, vector_data, dtype=tf.float32, sequence_length=seq_length)\n",
    "\n",
    "# lstm_cell = tf.nn.rnn_cell.LSTMCell(lstm_units, dtype=tf.float32)\n",
    "# lstm_cell = tf.contrib.rnn.DropoutWrapper(cell=lstm_cell, output_keep_prob=droupout_keep_prob, dtype=tf.float32)\n",
    "# initial_state = lstm_cell.zero_state(batch_size, dtype=tf.float32)\n",
    "# outputs, states = tf.nn.dynamic_rnn(lstm_cell, data, initial_state=initial_state)"
   ]
  },
  {
   "cell_type": "markdown",
   "metadata": {},
   "source": [
    "Since the states output of a SimpleRNNCell is the last output state, we'll feed that into a fully connected layer to compute the logits (with 2 classes: `0=bad`, `1=good`)."
   ]
  },
  {
   "cell_type": "code",
   "execution_count": 43,
   "metadata": {},
   "outputs": [],
   "source": [
    "logits = tf.contrib.layers.fully_connected(states, 2, activation_fn=None)\n",
    "xentropy = tf.nn.sparse_softmax_cross_entropy_with_logits(labels=y, logits=logits)"
   ]
  },
  {
   "cell_type": "code",
   "execution_count": 44,
   "metadata": {},
   "outputs": [],
   "source": [
    "loss = tf.reduce_mean(xentropy)\n",
    "optimizer = tf.train.AdamOptimizer(learning_rate=learning_rate)\n",
    "loss_summary = tf.summary.scalar('Loss', loss)"
   ]
  },
  {
   "cell_type": "code",
   "execution_count": 45,
   "metadata": {},
   "outputs": [],
   "source": [
    "training_op = optimizer.minimize(loss)\n",
    "correct = tf.nn.in_top_k(logits, y, 1)\n",
    "accuracy = tf.reduce_mean(tf.cast(correct, tf.float32))\n",
    "acc_summary = tf.summary.scalar('Accuracy', accuracy)"
   ]
  },
  {
   "cell_type": "code",
   "execution_count": 46,
   "metadata": {},
   "outputs": [],
   "source": [
    "init = tf.global_variables_initializer()\n",
    "file_writer = tf.summary.FileWriter(logdir('_imdb'), tf.get_default_graph())"
   ]
  },
  {
   "cell_type": "markdown",
   "metadata": {},
   "source": [
    "Note: for a very lucid explanation of what is happening here, see _Hands-on Machine Learning with Scikit-learn and TensorFlow_, Chapter 14 (Training a Sequence Classifier)"
   ]
  },
  {
   "cell_type": "code",
   "execution_count": 47,
   "metadata": {},
   "outputs": [
    {
     "name": "stdout",
     "output_type": "stream",
     "text": [
      "0 Train accuracy: 0.6\n",
      "1 Train accuracy: 0.8\n"
     ]
    }
   ],
   "source": [
    "n_epochs = 2\n",
    "batch_size = 10\n",
    "\n",
    "with tf.Session() as sess:\n",
    "    init.run()\n",
    "    for epoch in range(n_epochs):\n",
    "        for iteration in range(100):\n",
    "            batch_data, batch_lengths, batch_labels = get_batch(batch_size)\n",
    "            sess.run(training_op, feed_dict={X: batch_data, seq_length: batch_lengths, y: batch_labels})\n",
    "            # sample_outputs = outputs.eval(feed_dict={X: batch_data, seq_length: batch_lengths})\n",
    "            if iteration % 10 == 0:\n",
    "                summary_str\n",
    "        acc_train = accuracy.eval(feed_dict={X: batch_data, seq_length: batch_lengths, y: batch_labels})\n",
    "        print(epoch, \"Train accuracy:\", acc_train)\n",
    "        \n",
    "filewriter.close()"
   ]
  },
  {
   "cell_type": "markdown",
   "metadata": {},
   "source": [
    "## ToDo\n",
    "1. filewriter for tensorboard\n",
    "2. classify some specific examples for sanity checking\n",
    "3. replace SimpleRNNCell with an LSTM\n",
    "4. compare to a baseline logistic regression with hand-curated tokens\n",
    "5. compare glove vectors of different sizes and maybe google w2v vectors"
   ]
  },
  {
   "cell_type": "code",
   "execution_count": 165,
   "metadata": {},
   "outputs": [],
   "source": [
    "def logdir(name):\n",
    "    now = datetime.utcnow().strftime('%Y%m%d%H%M%S')\n",
    "    root_logdir = 'tf_logs' + name\n",
    "    logdir = '{}/run-{}/'.format(root_logdir, now)\n",
    "    return logdir"
   ]
  },
  {
   "cell_type": "code",
   "execution_count": 166,
   "metadata": {},
   "outputs": [],
   "source": [
    "init = tf.global_variables_initializer()\n",
    "saver = tf.train.Saver()\n",
    "file_writer = tf.summary.FileWriter(logdir('_imdb'), tf.get_default_graph())"
   ]
  },
  {
   "cell_type": "code",
   "execution_count": 167,
   "metadata": {},
   "outputs": [
    {
     "ename": "ValueError",
     "evalue": "Cannot feed value of shape (24,) for Tensor 'Placeholder:0', which has shape '(24, 1)'",
     "output_type": "error",
     "traceback": [
      "\u001b[1;31m---------------------------------------------------------------------------\u001b[0m",
      "\u001b[1;31mValueError\u001b[0m                                Traceback (most recent call last)",
      "\u001b[1;32m<ipython-input-167-6feda27ad671>\u001b[0m in \u001b[0;36m<module>\u001b[1;34m\u001b[0m\n\u001b[0;32m     13\u001b[0m                 loss, loss_summary_str, acc_summary_str = sess.run([loss, loss_summary, acc_summary],\n\u001b[0;32m     14\u001b[0m                                                                   feed_dict={input_data: batch_data,\n\u001b[1;32m---> 15\u001b[1;33m                                                                              labels: batch_labels})\n\u001b[0m\u001b[0;32m     16\u001b[0m                 \u001b[0mstep\u001b[0m \u001b[1;33m=\u001b[0m \u001b[0mepoch\u001b[0m \u001b[1;33m*\u001b[0m \u001b[0mn_batches\u001b[0m \u001b[1;33m+\u001b[0m \u001b[0mbatch_number\u001b[0m\u001b[1;33m\u001b[0m\u001b[1;33m\u001b[0m\u001b[0m\n\u001b[0;32m     17\u001b[0m                 \u001b[0mfile_writer\u001b[0m\u001b[1;33m.\u001b[0m\u001b[0madd_summary\u001b[0m\u001b[1;33m(\u001b[0m\u001b[0mloss_summary_str\u001b[0m\u001b[1;33m,\u001b[0m \u001b[0mstep\u001b[0m\u001b[1;33m)\u001b[0m\u001b[1;33m\u001b[0m\u001b[1;33m\u001b[0m\u001b[0m\n",
      "\u001b[1;32mC:\\toolkits\\Anaconda3-5.2.0\\envs\\tf\\lib\\site-packages\\tensorflow\\python\\client\\session.py\u001b[0m in \u001b[0;36mrun\u001b[1;34m(self, fetches, feed_dict, options, run_metadata)\u001b[0m\n\u001b[0;32m    927\u001b[0m     \u001b[1;32mtry\u001b[0m\u001b[1;33m:\u001b[0m\u001b[1;33m\u001b[0m\u001b[1;33m\u001b[0m\u001b[0m\n\u001b[0;32m    928\u001b[0m       result = self._run(None, fetches, feed_dict, options_ptr,\n\u001b[1;32m--> 929\u001b[1;33m                          run_metadata_ptr)\n\u001b[0m\u001b[0;32m    930\u001b[0m       \u001b[1;32mif\u001b[0m \u001b[0mrun_metadata\u001b[0m\u001b[1;33m:\u001b[0m\u001b[1;33m\u001b[0m\u001b[1;33m\u001b[0m\u001b[0m\n\u001b[0;32m    931\u001b[0m         \u001b[0mproto_data\u001b[0m \u001b[1;33m=\u001b[0m \u001b[0mtf_session\u001b[0m\u001b[1;33m.\u001b[0m\u001b[0mTF_GetBuffer\u001b[0m\u001b[1;33m(\u001b[0m\u001b[0mrun_metadata_ptr\u001b[0m\u001b[1;33m)\u001b[0m\u001b[1;33m\u001b[0m\u001b[1;33m\u001b[0m\u001b[0m\n",
      "\u001b[1;32mC:\\toolkits\\Anaconda3-5.2.0\\envs\\tf\\lib\\site-packages\\tensorflow\\python\\client\\session.py\u001b[0m in \u001b[0;36m_run\u001b[1;34m(self, handle, fetches, feed_dict, options, run_metadata)\u001b[0m\n\u001b[0;32m   1126\u001b[0m                              \u001b[1;34m'which has shape %r'\u001b[0m \u001b[1;33m%\u001b[0m\u001b[1;33m\u001b[0m\u001b[1;33m\u001b[0m\u001b[0m\n\u001b[0;32m   1127\u001b[0m                              (np_val.shape, subfeed_t.name,\n\u001b[1;32m-> 1128\u001b[1;33m                               str(subfeed_t.get_shape())))\n\u001b[0m\u001b[0;32m   1129\u001b[0m           \u001b[1;32mif\u001b[0m \u001b[1;32mnot\u001b[0m \u001b[0mself\u001b[0m\u001b[1;33m.\u001b[0m\u001b[0mgraph\u001b[0m\u001b[1;33m.\u001b[0m\u001b[0mis_feedable\u001b[0m\u001b[1;33m(\u001b[0m\u001b[0msubfeed_t\u001b[0m\u001b[1;33m)\u001b[0m\u001b[1;33m:\u001b[0m\u001b[1;33m\u001b[0m\u001b[1;33m\u001b[0m\u001b[0m\n\u001b[0;32m   1130\u001b[0m             \u001b[1;32mraise\u001b[0m \u001b[0mValueError\u001b[0m\u001b[1;33m(\u001b[0m\u001b[1;34m'Tensor %s may not be fed.'\u001b[0m \u001b[1;33m%\u001b[0m \u001b[0msubfeed_t\u001b[0m\u001b[1;33m)\u001b[0m\u001b[1;33m\u001b[0m\u001b[1;33m\u001b[0m\u001b[0m\n",
      "\u001b[1;31mValueError\u001b[0m: Cannot feed value of shape (24,) for Tensor 'Placeholder:0', which has shape '(24, 1)'"
     ]
    }
   ],
   "source": [
    "n_epochs = 10\n",
    "n_batches = len(reviews) // batch_size\n",
    "\n",
    "start_time = time.perf_counter()\n",
    "with tf.Session() as sess:\n",
    "    init.run()\n",
    "    \n",
    "    for epoch in range(n_epochs):\n",
    "        for batch_number in range(n_batches):\n",
    "            batch_data, batch_labels = get_batch(batch_size)\n",
    "            if batch_number % 10 == 0:\n",
    "                # log stuff to file_writer\n",
    "                loss, loss_summary_str, acc_summary_str = sess.run([loss, loss_summary, acc_summary],\n",
    "                                                                  feed_dict={input_data: batch_data,\n",
    "                                                                             labels: batch_labels})\n",
    "                step = epoch * n_batches + batch_number\n",
    "                file_writer.add_summary(loss_summary_str, step)\n",
    "                file_writer.add_summary(acc_summary_str, step)\n",
    "                \n",
    "            sess.run(training_op, feed_dict={input_data: batch_data, labels: batch_labels})\n",
    "        \n",
    "        # console output to see progress\n",
    "        acc_train = accuracy.eval(feed_dict={input_data: batch_data, labels: batch_labels})\n",
    "        print(epoch, 'batch accuracy:', acc_train)\n",
    "    \n",
    "    save_path = saver.save(sess, './imdb_lstm.ckpt')\n",
    "\n",
    "end_time = time.perf_counter()\n",
    "print('Finished in {}s.'.format(end_time - start_time))"
   ]
  },
  {
   "cell_type": "code",
   "execution_count": null,
   "metadata": {},
   "outputs": [],
   "source": []
  }
 ],
 "metadata": {
  "kernelspec": {
   "display_name": "Python 3",
   "language": "python",
   "name": "python3"
  },
  "language_info": {
   "codemirror_mode": {
    "name": "ipython",
    "version": 3
   },
   "file_extension": ".py",
   "mimetype": "text/x-python",
   "name": "python",
   "nbconvert_exporter": "python",
   "pygments_lexer": "ipython3",
   "version": "3.6.8"
  }
 },
 "nbformat": 4,
 "nbformat_minor": 2
}
